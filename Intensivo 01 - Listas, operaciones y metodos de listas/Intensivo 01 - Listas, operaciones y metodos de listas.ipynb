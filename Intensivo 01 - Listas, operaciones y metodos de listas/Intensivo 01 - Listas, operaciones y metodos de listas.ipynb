{
 "cells": [
  {
   "cell_type": "markdown",
   "metadata": {},
   "source": [
    "# Intensivo 01 - Listas, operaciones y métodos de listas"
   ]
  },
  {
   "cell_type": "markdown",
   "metadata": {},
   "source": [
    "## Temario\n",
    "\n",
    "### Introducción a las Listas\n",
    "- Concepto de listas.\n",
    "- Crear una lista.\n",
    "- Acceder a elementos de una lista.\n",
    "- Modificar elementos de una lista.\n",
    "- Recorrer una lista con bucles.\n",
    "\n",
    "### Operaciones y Métodos de Listas\n",
    "- Añadir elementos a una lista (append, insert).\n",
    "- Eliminar elementos de una lista (remove, pop, clear).\n",
    "- Métodos de listas (sort, reverse, count, index).\n",
    "- Slicing de listas.\n",
    "\n",
    "### Ejercicios\n",
    "- Ejercicio 1"
   ]
  },
  {
   "cell_type": "markdown",
   "metadata": {},
   "source": [
    "## Introducción a las listas"
   ]
  },
  {
   "cell_type": "markdown",
   "metadata": {},
   "source": [
    "### Concepto de listas\n",
    "\n",
    "Las listas en Python son colecciones ordenadas y mutables que permiten almacenar elementos de cualquier tipo. Se definen usando corchetes [] y los elementos se separan por comas."
   ]
  },
  {
   "cell_type": "code",
   "execution_count": 1,
   "metadata": {},
   "outputs": [],
   "source": [
    "# Crear una lista vacía\n",
    "mi_lista = []\n",
    "\n",
    "# Crear una lista con elementos\n",
    "mi_lista = [1, 2, 3, 'a', 'b', 'c']"
   ]
  },
  {
   "cell_type": "markdown",
   "metadata": {},
   "source": [
    "### Acceder a elementos de una lista\n",
    "Los elementos se acceden mediante índices, comenzando desde 0 (izquierda a derecha)"
   ]
  },
  {
   "cell_type": "code",
   "execution_count": 3,
   "metadata": {},
   "outputs": [
    {
     "name": "stdout",
     "output_type": "stream",
     "text": [
      "10\n",
      "c\n"
     ]
    }
   ],
   "source": [
    "# Acceder al primer elemento\n",
    "print(mi_lista[0])  # Salida: 1\n",
    "\n",
    "# Acceder al último elemento\n",
    "print(mi_lista[-1])  # Salida: 'c'"
   ]
  },
  {
   "cell_type": "markdown",
   "metadata": {},
   "source": [
    "### Modificar elementos de una lista\n",
    "Podemos cambiar el valor de un elemento específico usando su índice."
   ]
  },
  {
   "cell_type": "code",
   "execution_count": 2,
   "metadata": {},
   "outputs": [
    {
     "name": "stdout",
     "output_type": "stream",
     "text": [
      "[10, 2, 3, 'a', 'b', 'c']\n"
     ]
    }
   ],
   "source": [
    "mi_lista[0] = 10\n",
    "print(mi_lista)  # Salida: [10, 2, 3, 'a', 'b', 'c']"
   ]
  },
  {
   "cell_type": "markdown",
   "metadata": {},
   "source": [
    "### Recorrer una lista con bucles\n",
    "Podemos usar un bucle for para iterar sobre los elementos de una lista.\n"
   ]
  },
  {
   "cell_type": "code",
   "execution_count": 4,
   "metadata": {},
   "outputs": [
    {
     "name": "stdout",
     "output_type": "stream",
     "text": [
      "10\n",
      "2\n",
      "3\n",
      "a\n",
      "b\n",
      "c\n"
     ]
    }
   ],
   "source": [
    "for elemento in mi_lista:\n",
    "    print(elemento)"
   ]
  },
  {
   "cell_type": "markdown",
   "metadata": {},
   "source": [
    "## Operaciones y métodos de listas"
   ]
  },
  {
   "cell_type": "markdown",
   "metadata": {},
   "source": [
    "### Añadir elementos a una lista\n",
    "Podemos añadir elementos al final de la lista con 'append' o en una posición específica con 'insert'."
   ]
  },
  {
   "cell_type": "code",
   "execution_count": 5,
   "metadata": {},
   "outputs": [
    {
     "name": "stdout",
     "output_type": "stream",
     "text": [
      "[10, 2, 3, 'a', 'b', 'c', 'd']\n",
      "[10, 'z', 2, 3, 'a', 'b', 'c', 'd']\n"
     ]
    }
   ],
   "source": [
    "# Añadir al final\n",
    "mi_lista.append('d')\n",
    "print(mi_lista)  # Salida: [10, 2, 3, 'a', 'b', 'c', 'd']\n",
    "\n",
    "# Añadir en una posición específica\n",
    "mi_lista.insert(1, 'z')\n",
    "print(mi_lista)  # Salida: [10, 'z', 2, 3, 'a', 'b', 'c', 'd']\n"
   ]
  },
  {
   "cell_type": "markdown",
   "metadata": {},
   "source": [
    "### Eliminar elementos de una lista\n",
    "Podemos eliminar elementos usando 'remove', 'pop', o 'clear'."
   ]
  },
  {
   "cell_type": "code",
   "execution_count": 6,
   "metadata": {},
   "outputs": [
    {
     "name": "stdout",
     "output_type": "stream",
     "text": [
      "[10, 2, 3, 'a', 'b', 'c', 'd']\n",
      "[10, 2, 3, 'a', 'b', 'c']\n",
      "[2, 3, 'a', 'b', 'c']\n",
      "[]\n"
     ]
    }
   ],
   "source": [
    "# Eliminar un elemento específico\n",
    "mi_lista.remove('z')\n",
    "print(mi_lista)  # Salida: [10, 2, 3, 'a', 'b', 'c', 'd']\n",
    "\n",
    "# Eliminar el último elemento\n",
    "mi_lista.pop()\n",
    "print(mi_lista)  # Salida: [10, 2, 3, 'a', 'b', 'c']\n",
    "\n",
    "# Eliminar un elemento por índice\n",
    "mi_lista.pop(0)\n",
    "print(mi_lista)  # Salida: [2, 3, 'a', 'b', 'c']\n",
    "\n",
    "# Eliminar todos los elementos\n",
    "mi_lista.clear()\n",
    "print(mi_lista)  # Salida: []"
   ]
  },
  {
   "cell_type": "markdown",
   "metadata": {},
   "source": [
    "### Métodos de listas\n",
    "Las listas tienen varios métodos útiles."
   ]
  },
  {
   "cell_type": "code",
   "execution_count": 7,
   "metadata": {},
   "outputs": [
    {
     "name": "stdout",
     "output_type": "stream",
     "text": [
      "[1, 1, 2, 3, 4, 5, 5, 6, 9]\n",
      "[9, 6, 5, 5, 4, 3, 2, 1, 1]\n",
      "2\n",
      "2\n"
     ]
    }
   ],
   "source": [
    "mi_lista = [3, 1, 4, 1, 5, 9, 2, 6, 5]\n",
    "\n",
    "# Ordenar la lista\n",
    "mi_lista.sort()\n",
    "print(mi_lista)  # Salida: [1, 1, 2, 3, 4, 5, 5, 6, 9]\n",
    "\n",
    "# Invertir la lista\n",
    "mi_lista.reverse()\n",
    "print(mi_lista)  # Salida: [9, 6, 5, 5, 4, 3, 2, 1, 1]\n",
    "\n",
    "# Contar ocurrencias de un elemento\n",
    "print(mi_lista.count(1))  # Salida: 2\n",
    "\n",
    "# Encontrar el índice de un elemento\n",
    "print(mi_lista.index(5))  # Salida: 2"
   ]
  },
  {
   "cell_type": "markdown",
   "metadata": {},
   "source": [
    "### Slicing de listas\n",
    "Podemos obtener sublistas usando la técnica de slicing."
   ]
  },
  {
   "cell_type": "code",
   "execution_count": 8,
   "metadata": {},
   "outputs": [
    {
     "name": "stdout",
     "output_type": "stream",
     "text": [
      "[2, 3, 4]\n",
      "[0, 2, 4, 6, 8]\n"
     ]
    }
   ],
   "source": [
    "mi_lista = [0, 1, 2, 3, 4, 5, 6, 7, 8, 9]\n",
    "\n",
    "# Obtener una sublista\n",
    "sublista = mi_lista[2:5]\n",
    "print(sublista)  # Salida: [2, 3, 4]\n",
    "\n",
    "# Slicing con pasos\n",
    "sublista = mi_lista[::2]\n",
    "print(sublista)  # Salida: [0, 2, 4, 6, 8]"
   ]
  },
  {
   "cell_type": "markdown",
   "metadata": {},
   "source": [
    "## Ejercicios"
   ]
  },
  {
   "cell_type": "markdown",
   "metadata": {},
   "source": [
    "### Ejercicio 1"
   ]
  },
  {
   "cell_type": "code",
   "execution_count": null,
   "metadata": {},
   "outputs": [],
   "source": [
    "numeros = list(range(1, 11))\n",
    "for num in numeros:\n",
    "    if num % 2 == 0:\n",
    "        print(num)"
   ]
  },
  {
   "cell_type": "markdown",
   "metadata": {},
   "source": [
    "### Ejercicio 2"
   ]
  },
  {
   "cell_type": "code",
   "execution_count": null,
   "metadata": {},
   "outputs": [],
   "source": [
    "palabras = ['manzana', 'banana', 'cereza', 'manzana', 'durazno']\n",
    "palabra_a_eliminar = 'manzana'\n",
    "while palabra_a_eliminar in palabras:\n",
    "    palabras.remove(palabra_a_eliminar)\n",
    "print(palabras)  # Salida: ['banana', 'cereza', 'durazno']"
   ]
  },
  {
   "cell_type": "markdown",
   "metadata": {},
   "source": [
    "### Ejercicio 3"
   ]
  },
  {
   "cell_type": "code",
   "execution_count": 9,
   "metadata": {},
   "outputs": [
    {
     "name": "stdout",
     "output_type": "stream",
     "text": [
      "[9, 6, 5, 5, 2, 1]\n",
      "[1, 2, 5, 5, 6, 9]\n"
     ]
    }
   ],
   "source": [
    "numeros = [5, 2, 9, 1, 5, 6]\n",
    "numeros.sort(reverse=True)\n",
    "print(numeros)  # Salida: [9, 6, 5, 5, 2, 1]\n",
    "numeros.reverse()\n",
    "print(numeros)  # Salida: [1, 2, 5, 5, 6, 9]"
   ]
  }
 ],
 "metadata": {
  "kernelspec": {
   "display_name": "base",
   "language": "python",
   "name": "python3"
  },
  "language_info": {
   "codemirror_mode": {
    "name": "ipython",
    "version": 3
   },
   "file_extension": ".py",
   "mimetype": "text/x-python",
   "name": "python",
   "nbconvert_exporter": "python",
   "pygments_lexer": "ipython3",
   "version": "3.11.5"
  }
 },
 "nbformat": 4,
 "nbformat_minor": 2
}
