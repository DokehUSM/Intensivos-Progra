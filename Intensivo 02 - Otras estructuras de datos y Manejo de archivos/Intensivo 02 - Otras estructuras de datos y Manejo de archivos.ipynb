{
 "cells": [
  {
   "cell_type": "markdown",
   "metadata": {},
   "source": [
    "# Intensivo 02 - Otras estructuras de datos y Manejo de archivos\n",
    "\n",
    "Diego Prokes Herbage"
   ]
  },
  {
   "cell_type": "markdown",
   "metadata": {},
   "source": [
    "## Temario\n",
    "\n",
    "### Introducción a otras estructuras de datos\n",
    "\n",
    "- Tuplas\n",
    "- Diccionarios\n",
    "- Sets\n",
    "- Ejercicios\n",
    "\n",
    "### Manejo de archivos\n",
    "\n",
    "- Lectura de Archivos\n",
    "- Escritura de Archivos\n",
    "- Procesamiento de Datos con Listas y Otras Estructuras de Datos\n",
    "- Ejercicios\n",
    "\n",
    "### Ejercicios\n",
    "\n",
    "- Ejercicio 1\n",
    "- Ejercicio 2\n",
    "- Ejercicio 3"
   ]
  },
  {
   "cell_type": "markdown",
   "metadata": {},
   "source": [
    "## Introducción a otras estructuras de datos"
   ]
  },
  {
   "cell_type": "markdown",
   "metadata": {},
   "source": [
    "### Tuplas\n",
    "Las tuplas son colecciones **ordenadas** e **inmutables**. Se definen utilizando paréntesis `()`.\n",
    "\n",
    "Las necesitarás cuando quieras que tus datos **no sean modificables**."
   ]
  },
  {
   "cell_type": "code",
   "execution_count": 1,
   "metadata": {},
   "outputs": [
    {
     "name": "stdout",
     "output_type": "stream",
     "text": [
      "1\n",
      "c\n",
      "1 2 3 a b c\n"
     ]
    }
   ],
   "source": [
    "# Crear una tupla\n",
    "mi_tupla = (1, 2, 3, 'a', 'b', 'c')\n",
    "\n",
    "# Acceder a elementos\n",
    "print(mi_tupla[0])  # Salida: 1\n",
    "print(mi_tupla[-1])  # Salida: 'c'\n",
    "\n",
    "# Las tuplas son inmutables\n",
    "# mi_tupla[0] = 10  # Esto dará un error\n",
    "\n",
    "# Desempaquetado de tuplas\n",
    "a, b, c, d, e, f = mi_tupla\n",
    "print(a, b, c, d, e, f)  # Salida: 1 2 3 a b c"
   ]
  },
  {
   "cell_type": "markdown",
   "metadata": {},
   "source": [
    "### Diccionarios\n",
    "Los diccionarios son colecciones desordenadas de pares clave-valor. Se definen usando llaves `{}`.\n",
    "\n",
    "Se ocupan cuando necesitas una colección **desordenada** de pares **clave-valor**."
   ]
  },
  {
   "cell_type": "code",
   "execution_count": 2,
   "metadata": {},
   "outputs": [
    {
     "name": "stdout",
     "output_type": "stream",
     "text": [
      "Juan\n",
      "{'nombre': 'Juan', 'edad': 26, 'ciudad': 'Madrid'}\n",
      "{'nombre': 'Juan', 'edad': 26, 'ciudad': 'Madrid', 'profesión': 'Ingeniero'}\n",
      "dict_keys(['nombre', 'edad', 'ciudad', 'profesión'])\n",
      "dict_values(['Juan', 26, 'Madrid', 'Ingeniero'])\n",
      "dict_items([('nombre', 'Juan'), ('edad', 26), ('ciudad', 'Madrid'), ('profesión', 'Ingeniero')])\n"
     ]
    }
   ],
   "source": [
    "# Crear un diccionario\n",
    "mi_diccionario = {'nombre': 'Juan', 'edad': 25, 'ciudad': 'Madrid'}\n",
    "\n",
    "# Acceder a valores\n",
    "print(mi_diccionario['nombre'])  # Salida: Juan\n",
    "\n",
    "# Modificar valores\n",
    "mi_diccionario['edad'] = 26\n",
    "print(mi_diccionario)  # Salida: {'nombre': 'Juan', 'edad': 26, 'ciudad': 'Madrid'}\n",
    "\n",
    "# Añadir pares clave-valor\n",
    "mi_diccionario['profesión'] = 'Ingeniero'\n",
    "print(mi_diccionario)  # Salida: {'nombre': 'Juan', 'edad': 26, 'ciudad': 'Madrid', 'profesión': 'Ingeniero'}\n",
    "\n",
    "# Métodos útiles\n",
    "print(mi_diccionario.keys())  # Salida: dict_keys(['nombre', 'edad', 'ciudad', 'profesión'])\n",
    "print(mi_diccionario.values())  # Salida: dict_values(['Juan', 26, 'Madrid', 'Ingeniero'])\n",
    "print(mi_diccionario.items())  # Salida: dict_items([('nombre', 'Juan'), ('edad', 26), ('ciudad', 'Madrid'), ('profesión', 'Ingeniero')])"
   ]
  },
  {
   "cell_type": "markdown",
   "metadata": {},
   "source": [
    "### Sets\n",
    "Los sets son colecciones desordenadas de elementos únicos. Se definen usando llaves `{}` o la función `set()`.\n",
    "\n",
    "Estos se utilizan cuando necesitamos una colección **desordenada** de **elementos únicos**."
   ]
  },
  {
   "cell_type": "code",
   "execution_count": 3,
   "metadata": {},
   "outputs": [
    {
     "name": "stdout",
     "output_type": "stream",
     "text": [
      "{1, 2, 3, 4, 5, 6}\n",
      "{1, 2, 4, 5, 6}\n",
      "{1, 2, 4, 5, 6, 7, 8}\n",
      "{4, 5, 6}\n",
      "{1, 2}\n"
     ]
    }
   ],
   "source": [
    "# Crear un set\n",
    "mi_set = {1, 2, 3, 4, 5}\n",
    "\n",
    "# Añadir elementos\n",
    "mi_set.add(6)\n",
    "print(mi_set)  # Salida: {1, 2, 3, 4, 5, 6}\n",
    "\n",
    "# Eliminar elementos\n",
    "mi_set.remove(3)\n",
    "print(mi_set)  # Salida: {1, 2, 4, 5, 6}\n",
    "\n",
    "# Operaciones de sets\n",
    "otro_set = {4, 5, 6, 7, 8}\n",
    "print(mi_set.union(otro_set))  # Salida: {1, 2, 4, 5, 6, 7, 8}\n",
    "print(mi_set.intersection(otro_set))  # Salida: {4, 5, 6}\n",
    "print(mi_set.difference(otro_set))  # Salida: {1, 2}"
   ]
  },
  {
   "cell_type": "markdown",
   "metadata": {},
   "source": [
    "### Ejercicios Prácticos\n",
    "\n",
    "1. **Ejercicio 1**: Dada una lista de tuplas (nombre, edad), crea un diccionario donde la clave sea el nombre y el valor sea la edad."
   ]
  },
  {
   "cell_type": "code",
   "execution_count": 4,
   "metadata": {},
   "outputs": [
    {
     "name": "stdout",
     "output_type": "stream",
     "text": [
      "{'Ana': 28, 'Luis': 22, 'Marta': 34}\n"
     ]
    }
   ],
   "source": [
    "lista_tuplas = [('Ana', 28), ('Luis', 22), ('Marta', 34)]\n",
    "diccionario = {nombre: edad for nombre, edad in lista_tuplas}\n",
    "print(diccionario)  # Salida: {'Ana': 28, 'Luis': 22, 'Marta': 34}"
   ]
  },
  {
   "cell_type": "markdown",
   "metadata": {},
   "source": [
    "2. **Ejercicio 2**: Crea un set con los caracteres únicos de una cadena dada."
   ]
  },
  {
   "cell_type": "code",
   "execution_count": 5,
   "metadata": {},
   "outputs": [
    {
     "name": "stdout",
     "output_type": "stream",
     "text": [
      "{'a', 'r', 'c', 'd', 'b'}\n"
     ]
    }
   ],
   "source": [
    "cadena = \"abracadabra\"\n",
    "caracteres_unicos = set(cadena)\n",
    "print(caracteres_unicos)  # Salida: {'a', 'b', 'r', 'c', 'd'}"
   ]
  },
  {
   "cell_type": "markdown",
   "metadata": {},
   "source": [
    "## Manejo de Archivos"
   ]
  },
  {
   "cell_type": "markdown",
   "metadata": {},
   "source": [
    "### Lectura de Archivos\n",
    "Para leer archivos en Python, utilizamos la función `open()` junto con métodos como `read()`, `readline()`, y `readlines()`."
   ]
  },
  {
   "cell_type": "code",
   "execution_count": 7,
   "metadata": {},
   "outputs": [],
   "source": [
    "# Leer todo el archivo\n",
    "with open('archivo.txt', 'r') as archivo:\n",
    "    contenido = archivo.read()\n",
    "    print(contenido)\n",
    "\n",
    "# Leer línea por línea\n",
    "with open('archivo.txt', 'r') as archivo:\n",
    "    for linea in archivo:\n",
    "        print(linea.strip())"
   ]
  },
  {
   "cell_type": "markdown",
   "metadata": {},
   "source": [
    "### Escritura de Archivos\n",
    "Para escribir en archivos, usamos la función `open()` en modo escritura ('w', 'a').\n",
    "\n",
    "- **w**: Este modo abre el archivo **solo para escritura**. Si el archivo aún no existe en la carpeta, se crea uno nuevo. Los datos en los archivos existentes se modifican y sobrescriben. El controlador se encuentra al inicio del archivo sobreescribiéndolo.\n",
    "- **a**: Este modo permite **abrir el archivo para escritura**. Si el archivo aún no existe, se crea uno nuevo. El controlador se establece al final del archivo. Los datos recién escritos se agregarán al final, siguiendo los datos escritos anteriormente."
   ]
  },
  {
   "cell_type": "code",
   "execution_count": 8,
   "metadata": {},
   "outputs": [],
   "source": [
    "# Escribir en un archivo (sobrescribe el contenido)\n",
    "with open('archivo.txt', 'w') as archivo:\n",
    "    archivo.write('Hola Mundo!\\n')\n",
    "\n",
    "# Añadir contenido a un archivo existente\n",
    "with open('archivo.txt', 'a') as archivo:\n",
    "    archivo.write('Nueva línea\\n')"
   ]
  },
  {
   "cell_type": "markdown",
   "metadata": {},
   "source": [
    "### Procesamiento de Datos\n",
    "Podemos combinar la lectura de archivos con estructuras de datos para procesar información."
   ]
  },
  {
   "cell_type": "markdown",
   "metadata": {},
   "source": [
    "### Ejercicios Prácticos\n",
    "\n",
    "1. **Ejercicio 1**: Lee un archivo de texto que contiene una lista de nombres (uno por línea) y crea un diccionario donde las claves sean las primeras letras de los nombres y los valores sean listas de nombres que comienzan con esa letra."
   ]
  },
  {
   "cell_type": "code",
   "execution_count": 7,
   "metadata": {},
   "outputs": [
    {
     "name": "stdout",
     "output_type": "stream",
     "text": [
      "{'A': ['Ana', 'Andrés'], 'L': ['Luis', 'Laura', 'Lorenzo', 'Lucas'], 'M': ['Marta'], 'C': ['Carlos']}\n"
     ]
    }
   ],
   "source": [
    "nombres_por_letra = {}\n",
    "with open('nombres_ejercicio_1.txt', 'r') as archivo:\n",
    "    for linea in archivo:\n",
    "        nombre = linea.strip()\n",
    "        letra_inicial = nombre[0]\n",
    "        if letra_inicial not in nombres_por_letra:\n",
    "            nombres_por_letra[letra_inicial] = []\n",
    "        nombres_por_letra[letra_inicial].append(nombre)\n",
    "print(nombres_por_letra)"
   ]
  },
  {
   "cell_type": "markdown",
   "metadata": {},
   "source": [
    "2. **Ejercicio 2**: Escribe un programa que lea un archivo CSV y calcule la suma de una columna específica, luego guarde el resultado en un nuevo archivo de texto."
   ]
  },
  {
   "cell_type": "code",
   "execution_count": 10,
   "metadata": {},
   "outputs": [],
   "source": [
    "suma = 0\n",
    "with open('datos_ejercicio_2.csv', 'r') as archivo_csv:\n",
    "    next(archivo_csv)  # Saltar la cabecera\n",
    "    for linea in archivo_csv:\n",
    "        fila = linea.strip().split(',')\n",
    "        suma += int(fila[1])  # Asumiendo que la columna a sumar es la segunda\n",
    "\n",
    "with open('salida_ejericio_2.txt', 'w') as archivo_resultado:\n",
    "    archivo_resultado.write(f'Suma de la columna: {suma}\\n')"
   ]
  },
  {
   "cell_type": "markdown",
   "metadata": {},
   "source": [
    "3. **Ejercicio 3**: Crea un programa que lea un archivo de texto con varias líneas, procese cada línea para eliminar palabras duplicadas, y guarde el resultado en un nuevo archivo."
   ]
  },
  {
   "cell_type": "code",
   "execution_count": 11,
   "metadata": {},
   "outputs": [],
   "source": [
    "def eliminar_duplicados(linea):\n",
    "    palabras = linea.split()\n",
    "    palabras_unicas = list(dict.fromkeys(palabras))\n",
    "    return ' '.join(palabras_unicas)\n",
    "\n",
    "with open('entrada_ejercicio_3.txt', 'r') as archivo_entrada, open('salida_ejercicio_3.txt', 'w') as archivo_salida:\n",
    "    for linea in archivo_entrada:\n",
    "        linea_procesada = eliminar_duplicados(linea.strip())\n",
    "        archivo_salida.write(linea_procesada + '\\n')"
   ]
  }
 ],
 "metadata": {
  "kernelspec": {
   "display_name": "Python 3",
   "language": "python",
   "name": "python3"
  },
  "language_info": {
   "codemirror_mode": {
    "name": "ipython",
    "version": 3
   },
   "file_extension": ".py",
   "mimetype": "text/x-python",
   "name": "python",
   "nbconvert_exporter": "python",
   "pygments_lexer": "ipython3",
   "version": "3.11.5"
  }
 },
 "nbformat": 4,
 "nbformat_minor": 4
}
